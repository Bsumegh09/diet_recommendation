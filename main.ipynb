{
 "cells": [
  {
   "cell_type": "code",
   "execution_count": 6,
   "metadata": {},
   "outputs": [],
   "source": [
    "import pandas as pd\n",
    "from sklearn.model_selection import train_test_split\n",
    "from sklearn.ensemble import RandomForestClassifier\n",
    "from sklearn.svm import SVC\n",
    "from sklearn.neighbors import KNeighborsClassifier\n",
    "from sklearn.metrics import accuracy_score\n",
    "import pickle"
   ]
  },
  {
   "cell_type": "code",
   "execution_count": 7,
   "metadata": {},
   "outputs": [
    {
     "name": "stdout",
     "output_type": "stream",
     "text": [
      "KNN Model Accuracy: 36.00%\n",
      "KNN Model trained and saved successfully!\n"
     ]
    }
   ],
   "source": [
    "\n",
    "\n",
    "# Train model with KNN\n",
    "knn_model = KNeighborsClassifier(n_neighbors=5)  # You can tune `n_neighbors`\n",
    "knn_model.fit(X_train, y_train)\n",
    "\n",
    "# Make predictions\n",
    "y_pred_knn = knn_model.predict(X_test)\n",
    "\n",
    "# Calculate accuracy\n",
    "accuracy_knn = accuracy_score(y_test, y_pred_knn)\n",
    "print(f\"KNN Model Accuracy: {accuracy_knn * 100:.2f}%\")\n",
    "\n",
    "# Save model\n",
    "with open(\"diet_exercise_knn_model.pkl\", \"wb\") as file:\n",
    "    pickle.dump(knn_model, file)\n",
    "\n",
    "print(\"KNN Model trained and saved successfully!\")\n"
   ]
  },
  {
   "cell_type": "code",
   "execution_count": 16,
   "metadata": {},
   "outputs": [
    {
     "name": "stdout",
     "output_type": "stream",
     "text": [
      "Model Accuracy: 36.67%\n",
      "Model trained and saved successfully!\n"
     ]
    }
   ],
   "source": [
    "\n",
    "\n",
    "# Load dataset\n",
    "file_path = \"diet_exercise_data.csv\"  # Ensure this is the correct path\n",
    "data = pd.read_csv(file_path)\n",
    "\n",
    "# Encode categorical features\n",
    "label_encoder_activity = LabelEncoder()\n",
    "data['Physical_Activity_Level'] = label_encoder_activity.fit_transform(data['Physical_Activity_Level'])\n",
    "\n",
    "label_encoder_diet = LabelEncoder()\n",
    "data['Diet_Recommendation'] = label_encoder_diet.fit_transform(data['Diet_Recommendation'])\n",
    "\n",
    "# Features & Labels\n",
    "X = data[['Age', 'Weight_kg', 'Height_cm', 'Physical_Activity_Level']]  # Input features\n",
    "y = data['Diet_Recommendation']  # Output (encoded diet plan)\n",
    "\n",
    "# Split into training and test sets\n",
    "X_train, X_test, y_train, y_test = train_test_split(X, y, test_size=0.9, random_state=99)\n",
    "\n",
    "# Train model\n",
    "model = RandomForestClassifier(n_estimators=100, random_state=18)\n",
    "model.fit(X_train, y_train)\n",
    "\n",
    "# Make predictions\n",
    "y_pred = model.predict(X_test)\n",
    "\n",
    "# Calculate accuracy\n",
    "accuracy = accuracy_score(y_test, y_pred)\n",
    "print(f\"Model Accuracy: {accuracy * 100:.2f}%\")\n",
    "\n",
    "# Save model for Spring Boot\n",
    "with open(\"diet_exercise_model.pkl\", \"wb\") as file:\n",
    "    pickle.dump(model, file)\n",
    "\n",
    "print(\"Model trained and saved successfully!\")\n"
   ]
  },
  {
   "cell_type": "code",
   "execution_count": 15,
   "metadata": {},
   "outputs": [
    {
     "name": "stdout",
     "output_type": "stream",
     "text": [
      "SVM Model Accuracy: 33.67%\n",
      "SVM Model trained and saved successfully!\n"
     ]
    }
   ],
   "source": [
    "\n",
    "\n",
    "# Train model with SVM\n",
    "svm_model = SVC(kernel='rbf', random_state=18)\n",
    "svm_model.fit(X_train, y_train)\n",
    "\n",
    "# Make predictions\n",
    "y_pred_svm = svm_model.predict(X_test)\n",
    "\n",
    "# Calculate accuracy\n",
    "accuracy_svm = accuracy_score(y_test, y_pred_svm)\n",
    "print(f\"SVM Model Accuracy: {accuracy_svm * 100:.2f}%\")\n",
    "\n",
    "# Save model\n",
    "with open(\"diet_exercise_svm_model.pkl\", \"wb\") as file:\n",
    "    pickle.dump(svm_model, file)\n",
    "\n",
    "print(\"SVM Model trained and saved successfully!\")\n"
   ]
  },
  {
   "cell_type": "code",
   "execution_count": null,
   "metadata": {},
   "outputs": [
    {
     "name": "stdout",
     "output_type": "stream",
     "text": [
      "Optimized Model Accuracy: 55.47%\n",
      "              precision    recall  f1-score   support\n",
      "\n",
      "           0       0.59      0.68      0.63        47\n",
      "           1       0.57      0.54      0.55        48\n",
      "           2       0.49      0.43      0.46        42\n",
      "\n",
      "    accuracy                           0.55       137\n",
      "   macro avg       0.55      0.55      0.55       137\n",
      "weighted avg       0.55      0.55      0.55       137\n",
      "\n",
      "Model and scaler trained and saved successfully!\n"
     ]
    }
   ],
   "source": [
    "import pandas as pd\n",
    "import numpy as np\n",
    "from sklearn.model_selection import train_test_split\n",
    "from sklearn.ensemble import RandomForestClassifier\n",
    "from sklearn.preprocessing import LabelEncoder, StandardScaler\n",
    "from sklearn.metrics import accuracy_score, classification_report\n",
    "from imblearn.over_sampling import SMOTE  # To handle class imbalance\n",
    "import pickle\n",
    "\n",
    "# Load dataset\n",
    "file_path = \"diet_exercise_data.csv\"  # Ensure correct path\n",
    "data = pd.read_csv(file_path)\n",
    "\n",
    "# Drop unnecessary columns\n",
    "if {'Patient_ID', 'Preferred_Cuisine', 'Allergies'}.issubset(data.columns):\n",
    "    data = data.drop(columns=['Patient_ID', 'Preferred_Cuisine', 'Allergies'])\n",
    "\n",
    "# Check for missing values & drop rows with NaN values\n",
    "data = data.dropna()\n",
    "\n",
    "# Encode categorical features\n",
    "label_encoder_activity = LabelEncoder()\n",
    "data['Physical_Activity_Level'] = label_encoder_activity.fit_transform(data['Physical_Activity_Level'])\n",
    "\n",
    "label_encoder_diet = LabelEncoder()\n",
    "data['Diet_Recommendation'] = label_encoder_diet.fit_transform(data['Diet_Recommendation'])\n",
    "\n",
    "# Features & Labels\n",
    "X = data[['Age', 'Weight_kg', 'Height_cm', 'BMI', 'Cholesterol_mg/dL', 'Blood_Pressure_mmHg',\n",
    "          'Glucose_mg/dL', 'Weekly_Exercise_Hours', 'Dietary_Nutrient_Imbalance_Score',\n",
    "          'Physical_Activity_Level']]\n",
    "y = data['Diet_Recommendation']  # Output (encoded diet plan)\n",
    "\n",
    "# Handle Class Imbalance using SMOTE (Synthetic Minority Oversampling)\n",
    "smote = SMOTE(random_state=42)\n",
    "X_resampled, y_resampled = smote.fit_resample(X, y)\n",
    "\n",
    "# Split into training and test sets (using 80-20 split for better generalization)\n",
    "X_train, X_test, y_train, y_test = train_test_split(X_resampled, y_resampled, test_size=0.2, random_state=42)\n",
    "\n",
    "# Feature Scaling (Not necessary for RandomForest but useful for other models)\n",
    "scaler = StandardScaler()\n",
    "X_train = scaler.fit_transform(X_train)\n",
    "X_test = scaler.transform(X_test)\n",
    "\n",
    "# Train an optimized RandomForest model with better hyperparameters\n",
    "model = RandomForestClassifier(n_estimators=300, max_depth=20, min_samples_split=9, min_samples_leaf=2,\n",
    "                               class_weight=\"balanced\", random_state=42)\n",
    "model.fit(X_train, y_train)\n",
    "\n",
    "# Make predictions\n",
    "y_pred = model.predict(X_test)\n",
    "\n",
    "# Evaluate model performance\n",
    "accuracy = accuracy_score(y_test, y_pred)\n",
    "print(f\"Optimized Model Accuracy: {accuracy * 100:.2f}%\")\n",
    "print(classification_report(y_test, y_pred))\n",
    "\n",
    "# Save model for Spring Boot\n",
    "with open(\"diet_exercise_model.pkl\", \"wb\") as file:\n",
    "    pickle.dump(model, file)\n",
    "\n",
    "# Save scaler for consistent transformations in the Spring Boot app\n",
    "with open(\"scaler.pkl\", \"wb\") as file:\n",
    "    pickle.dump(scaler, file)\n",
    "\n",
    "print(\"Model and scaler trained and saved successfully!\")\n"
   ]
  },
  {
   "cell_type": "code",
   "execution_count": 3,
   "metadata": {},
   "outputs": [],
   "source": [
    "# Load dataset\n",
    "import pandas as pd\n",
    "file_path = \"diet_exercise_data.csv\"  # Ensure this is the correct path\n",
    "data = pd.read_csv(file_path)"
   ]
  },
  {
   "cell_type": "code",
   "execution_count": 4,
   "metadata": {},
   "outputs": [
    {
     "data": {
      "text/plain": [
       "array(['Balanced', 'Low_Carb', 'Low_Sodium'], dtype=object)"
      ]
     },
     "execution_count": 4,
     "metadata": {},
     "output_type": "execute_result"
    }
   ],
   "source": [
    "data['Diet_Recommendation'].unique()"
   ]
  },
  {
   "cell_type": "code",
   "execution_count": 5,
   "metadata": {},
   "outputs": [
    {
     "name": "stdout",
     "output_type": "stream",
     "text": [
      "<class 'pandas.core.frame.DataFrame'>\n",
      "RangeIndex: 1000 entries, 0 to 999\n",
      "Data columns (total 20 columns):\n",
      " #   Column                            Non-Null Count  Dtype  \n",
      "---  ------                            --------------  -----  \n",
      " 0   Patient_ID                        1000 non-null   object \n",
      " 1   Age                               1000 non-null   int64  \n",
      " 2   Gender                            1000 non-null   object \n",
      " 3   Weight_kg                         1000 non-null   float64\n",
      " 4   Height_cm                         1000 non-null   int64  \n",
      " 5   BMI                               1000 non-null   float64\n",
      " 6   Disease_Type                      796 non-null    object \n",
      " 7   Severity                          1000 non-null   object \n",
      " 8   Physical_Activity_Level           1000 non-null   object \n",
      " 9   Daily_Caloric_Intake              1000 non-null   int64  \n",
      " 10  Cholesterol_mg/dL                 1000 non-null   float64\n",
      " 11  Blood_Pressure_mmHg               1000 non-null   int64  \n",
      " 12  Glucose_mg/dL                     1000 non-null   float64\n",
      " 13  Dietary_Restrictions              666 non-null    object \n",
      " 14  Allergies                         677 non-null    object \n",
      " 15  Preferred_Cuisine                 1000 non-null   object \n",
      " 16  Weekly_Exercise_Hours             1000 non-null   float64\n",
      " 17  Adherence_to_Diet_Plan            1000 non-null   float64\n",
      " 18  Dietary_Nutrient_Imbalance_Score  1000 non-null   float64\n",
      " 19  Diet_Recommendation               1000 non-null   object \n",
      "dtypes: float64(7), int64(4), object(9)\n",
      "memory usage: 156.4+ KB\n"
     ]
    }
   ],
   "source": [
    "data.info()"
   ]
  },
  {
   "cell_type": "code",
   "execution_count": 12,
   "metadata": {},
   "outputs": [],
   "source": [
    "allergy = data['Allergies'].unique() # replace nan by 0, peanuts by 1. gluten by 2"
   ]
  },
  {
   "cell_type": "code",
   "execution_count": 13,
   "metadata": {},
   "outputs": [],
   "source": [
    "Dietary = data['Dietary_Restrictions'].unique() # replace nan by 0, Low_Sugar by 1. Low_Sodium by 2"
   ]
  },
  {
   "cell_type": "code",
   "execution_count": 14,
   "metadata": {},
   "outputs": [],
   "source": [
    "disease = data['Disease_Type'].unique() # replace nan by 0, Obesity by 1. Diabetes by 2, Hypertension by 3"
   ]
  },
  {
   "cell_type": "code",
   "execution_count": 8,
   "metadata": {},
   "outputs": [
    {
     "data": {
      "text/plain": [
       "Patient_ID                            0\n",
       "Age                                   0\n",
       "Gender                                0\n",
       "Weight_kg                             0\n",
       "Height_cm                             0\n",
       "BMI                                   0\n",
       "Disease_Type                        204\n",
       "Severity                              0\n",
       "Physical_Activity_Level               0\n",
       "Daily_Caloric_Intake                  0\n",
       "Cholesterol_mg/dL                     0\n",
       "Blood_Pressure_mmHg                   0\n",
       "Glucose_mg/dL                         0\n",
       "Dietary_Restrictions                334\n",
       "Allergies                           323\n",
       "Preferred_Cuisine                     0\n",
       "Weekly_Exercise_Hours                 0\n",
       "Adherence_to_Diet_Plan                0\n",
       "Dietary_Nutrient_Imbalance_Score      0\n",
       "Diet_Recommendation                   0\n",
       "dtype: int64"
      ]
     },
     "execution_count": 8,
     "metadata": {},
     "output_type": "execute_result"
    }
   ],
   "source": [
    "data.isnull().sum()"
   ]
  },
  {
   "cell_type": "code",
   "execution_count": null,
   "metadata": {},
   "outputs": [],
   "source": [
    "import numpy as np\n",
    "data['Category'] = np.where((df['Category'] == 'A') & (df['Value'] > 20), 'X',\n",
    "                 np.where((df['Category'] == 'B') & (df['Value'] > 20), 'Y', df['Category']))\n",
    "\n",
    "print(df)\n"
   ]
  }
 ],
 "metadata": {
  "kernelspec": {
   "display_name": "Python 3",
   "language": "python",
   "name": "python3"
  },
  "language_info": {
   "codemirror_mode": {
    "name": "ipython",
    "version": 3
   },
   "file_extension": ".py",
   "mimetype": "text/x-python",
   "name": "python",
   "nbconvert_exporter": "python",
   "pygments_lexer": "ipython3",
   "version": "3.12.0"
  }
 },
 "nbformat": 4,
 "nbformat_minor": 2
}
