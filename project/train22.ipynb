{
 "cells": [
  {
   "cell_type": "code",
   "execution_count": 3,
   "metadata": {},
   "outputs": [
    {
     "name": "stdout",
     "output_type": "stream",
     "text": [
      "Extracted Text Sample: Report Status Male: 43 Years: Age: Gender: Reported P: 5/2/2025 11: 20: 00AM: SELF: 477013620: Mr. ARUN PATORKAR: Name Lab No. Ref By Collected A/c Status 5/2/2025 12: 10: 52PM: Final: LPL-SHREE ICU & MRC PVT LTD: C/O Shree Hospital 747,MANGALWAR PETH, Karad Dist. Satara Pin 415110: Collected at Processed at LPL-KARAD (SHREE I.C.U. & M.R.C. PVT. LTD.): C/O Shree Hospital 747,MANGALWAR PETH, Karad Dist. Satara Pin 415110 PETH, KARAD - 415110: KARAD Test Report Test Name: Results: Units: Bio. Ref. Interval: GLUCOSE, FASTING (F): (Hexokinase): Glucose, Fasting: mg/dL: 70.00 - 100.00: 163.60: SNR01-Sample Not Received: Urine,Glucose: *477013620*: Page 1 of 4 Report Status Male: 43 Years: Age: Gender: Reported P: 5/2/2025 11: 20: 00AM: SELF: 477013620: Mr. ARUN PATORKAR: Name Lab No. Ref By Collected A/c Status 5/2/2025 12: 10: 52PM: Final: Collected at : Processed at : LPL-KARAD (SHREE I.C.U. & M.R.C. PVT. LTD.): C/O Shree Hospital 747,MANGALWAR PETH, Karad Dist. Satara Pin 415110 PETH, KARAD - 415110: KARAD LPL-SHREE ICU & MRC PVT LTD: C/O Shree Hospital 747,MANGALWAR PETH, Karad Dist. Satara Pin 415110: Test Report Test Name: Results: Units: Bio. Ref. Interval: LIPID PROFILE, BASIC, SERUM: (Spectrophotometry): 167: Cholesterol Total <200.00 mg/dL: 132: Triglycerides <150.00 mg/dL: 23: HDL Cholesterol >40.00 mg/dL: 118: LDL Cholesterol <100.00 mg/dL: 26: VLDL Cholesterol <30.00 mg/dL: 144: Non-HDL Cholesterol <130.00 mg/dL: Note: 1.: Measurements in the same patient can show phy\n",
      "Warning: Total Cholesterol not found!\n",
      "Warning: HDL Cholesterol not found!\n",
      "Warning: LDL Cholesterol not found!\n",
      "Warning: Triglycerides not found!\n",
      "\n",
      "Name Lab No\n",
      "Age 43\n",
      "Gender Male\n"
     ]
    },
    {
     "name": "stderr",
     "output_type": "stream",
     "text": [
      "<>:56: SyntaxWarning: invalid escape sequence '\\s'\n",
      "<>:56: SyntaxWarning: invalid escape sequence '\\s'\n",
      "C:\\Users\\sumeg\\AppData\\Local\\Temp\\ipykernel_10484\\3374003036.py:56: SyntaxWarning: invalid escape sequence '\\s'\n",
      "  pdf_path = \"D:\\sem 8 project\\data1.pdf\"  # Replace with actual PDF path\n"
     ]
    }
   ],
   "source": [
    "import fitz  # PyMuPDF\n",
    "import re\n",
    "\n",
    "def extract_text_from_pdf(data1):\n",
    "    \"\"\"Extracts text from a PDF file while handling multiple page layouts.\"\"\"\n",
    "    try:\n",
    "        doc = fitz.open(data1)\n",
    "        text = \"\"\n",
    "        for page in doc:\n",
    "            text += page.get_text(\"text\") + \"\\n\"  # Extract text from each page\n",
    "        return text.strip()\n",
    "    except Exception as e:\n",
    "        print(f\"Error reading PDF: {e}\")\n",
    "        return \"\"\n",
    "\n",
    "def clean_text(text):\n",
    "    \"\"\"Cleans up text formatting issues (extra colons, misplaced newlines, etc.).\"\"\"\n",
    "    text = re.sub(r\"\\s{2,}\", \" \", text)  # Replace multiple spaces with one\n",
    "    text = re.sub(r\"[:\\n]+\", \": \", text)  # Normalize colons and newlines\n",
    "    return text\n",
    "\n",
    "def extract_values(text):\n",
    "    \"\"\"Extracts required values using regex while handling formatting variations.\"\"\"\n",
    "    text = clean_text(text)  # Pre-process text to fix formatting issues\n",
    "    data = {}\n",
    "\n",
    "    # Debugging: Print extracted text sample\n",
    "    print(\"Extracted Text Sample:\", text[:1500])\n",
    "\n",
    "    # Updated regex patterns based on new format\n",
    "    patterns = {\n",
    "        \"Name\": r\"Name(?:Mr\\.|Mrs\\.|Ms\\.|Dr\\.)?\\s*([A-Z][a-z]+\\s+[A-Z][a-z]+(?:\\s+[A-Z][a-z]+)*)\",\n",
    "        \"Age\": r\"(\\d{1,3})\\s*(?:Years|Yr|Yrs)?\",\n",
    "        \"Gender\": r\"(Male|Female|Other)\",\n",
    "         \"Total Cholesterol\": r\"(\\d+)\\s*Cholesterol\\s*Total\",\n",
    "    \"HDL Cholesterol\": r\"(\\d+)\\s*HDL\\s*Cholesterol\",\n",
    "    \"LDL Cholesterol\": r\"(\\d+)\\s*LDL\\s*Cholesterol\",\n",
    "    \"Triglycerides\": r\"(\\d+)\\s*Triglycerides\"\n",
    "    }\n",
    "\n",
    "    for key, pattern in patterns.items():\n",
    "        match = re.search(pattern, text, re.IGNORECASE)\n",
    "        if match:\n",
    "            value = match.group(1).strip()\n",
    "            data[key] = int(value) if value.isdigit() else value  # Convert numbers to integers\n",
    "        else:\n",
    "            print(f\"Warning: {key} not found!\")\n",
    "\n",
    "    return data\n",
    "\n",
    "def format_output(data):\n",
    "    \"\"\"Formats extracted data with newline separation.\"\"\"\n",
    "    return \"\\n\".join(f\"{key} {value}\" for key, value in data.items())\n",
    "\n",
    "# Use the correct PDF file path\n",
    "pdf_path = \"D:\\sem 8 project\\data1.pdf\"  # Replace with actual PDF path\n",
    "pdf_text = extract_text_from_pdf(pdf_path)\n",
    "user_data = extract_values(pdf_text)\n",
    "\n",
    "formatted_output = format_output(user_data)\n",
    "print(\"\\n\" + formatted_output)  # Print the formatted result\n"
   ]
  }
 ],
 "metadata": {
  "kernelspec": {
   "display_name": "Python 3",
   "language": "python",
   "name": "python3"
  },
  "language_info": {
   "codemirror_mode": {
    "name": "ipython",
    "version": 3
   },
   "file_extension": ".py",
   "mimetype": "text/x-python",
   "name": "python",
   "nbconvert_exporter": "python",
   "pygments_lexer": "ipython3",
   "version": "3.12.0"
  }
 },
 "nbformat": 4,
 "nbformat_minor": 2
}
