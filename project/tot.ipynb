{
 "cells": [
  {
   "cell_type": "code",
   "execution_count": 1,
   "metadata": {},
   "outputs": [
    {
     "name": "stderr",
     "output_type": "stream",
     "text": [
      "<>:5: SyntaxWarning: invalid escape sequence '\\s'\n",
      "<>:5: SyntaxWarning: invalid escape sequence '\\s'\n",
      "C:\\Users\\sumeg\\AppData\\Local\\Temp\\ipykernel_22012\\3951221675.py:5: SyntaxWarning: invalid escape sequence '\\s'\n",
      "  pdf_path = \"D:\\sem 8 project\\data1.pdf\"\n"
     ]
    },
    {
     "name": "stdout",
     "output_type": "stream",
     "text": [
      "Total Cholesterol 167\n"
     ]
    }
   ],
   "source": [
    "\n",
    "import fitz\n",
    "import re\n",
    "\n",
    "# Load the PDF\n",
    "pdf_path = \"D:\\sem 8 project\\data1.pdf\"\n",
    "doc = fitz.open(pdf_path)\n",
    "\n",
    "# Extract text from all pages\n",
    "full_text = \"\\n\".join([page.get_text(\"text\") for page in doc])\n",
    "\n",
    "# Regex to find Total Cholesterol with its value\n",
    "match = re.search(r\"(\\d+)\\s*Cholesterol\\s*Total\", full_text)\n",
    "\n",
    "if match:\n",
    "    total_cholesterol = match.group(1)\n",
    "    print(f\"Total Cholesterol {total_cholesterol}\")\n",
    "else:\n",
    "    print(\"Total Cholesterol not found!\")\n"
   ]
  },
  {
   "cell_type": "code",
   "execution_count": 2,
   "metadata": {},
   "outputs": [
    {
     "name": "stdout",
     "output_type": "stream",
     "text": [
      "Total Cholesterol: 167\n",
      "HDL Cholesterol: 23\n",
      "LDL Cholesterol: 118\n",
      "Triglycerides: 132\n"
     ]
    },
    {
     "name": "stderr",
     "output_type": "stream",
     "text": [
      "<>:5: SyntaxWarning: invalid escape sequence '\\s'\n",
      "<>:5: SyntaxWarning: invalid escape sequence '\\s'\n",
      "C:\\Users\\sumeg\\AppData\\Local\\Temp\\ipykernel_22012\\1674001675.py:5: SyntaxWarning: invalid escape sequence '\\s'\n",
      "  pdf_path = \"D:\\sem 8 project\\data1.pdf\"\n"
     ]
    }
   ],
   "source": [
    "import fitz\n",
    "import re\n",
    "\n",
    "# Load the PDF\n",
    "pdf_path = \"D:\\sem 8 project\\data1.pdf\"\n",
    "doc = fitz.open(pdf_path)\n",
    "\n",
    "# Extract text from all pages\n",
    "full_text = \"\\n\".join([page.get_text(\"text\") for page in doc])\n",
    "\n",
    "# Define regex patterns for each parameter\n",
    "patterns = {\n",
    "    \"Total Cholesterol\": r\"(\\d+)\\s*Cholesterol\\s*Total\",\n",
    "    \"HDL Cholesterol\": r\"(\\d+)\\s*HDL\\s*Cholesterol\",\n",
    "    \"LDL Cholesterol\": r\"(\\d+)\\s*LDL\\s*Cholesterol\",\n",
    "    \"Triglycerides\": r\"(\\d+)\\s*Triglycerides\"\n",
    "}\n",
    "\n",
    "# Extract values\n",
    "results = {}\n",
    "for key, pattern in patterns.items():\n",
    "    match = re.search(pattern, full_text)\n",
    "    if match:\n",
    "        results[key] = match.group(1)\n",
    "    else:\n",
    "        results[key] = \"Not found\"\n",
    "\n",
    "# Print the extracted values\n",
    "for key, value in results.items():\n",
    "    print(f\"{key}: {value}\")\n"
   ]
  },
  {
   "cell_type": "code",
   "execution_count": 4,
   "metadata": {},
   "outputs": [
    {
     "name": "stdout",
     "output_type": "stream",
     "text": [
      "\n",
      "Name: ARUN  PATORKAR\n",
      "Age: 43\n",
      "Gender: Male\n",
      "Total Cholesterol: 167\n",
      "HDL Cholesterol: 23\n",
      "LDL Cholesterol: 118\n",
      "Triglycerides: 132\n"
     ]
    }
   ],
   "source": [
    "import fitz  # PyMuPDF\n",
    "import re\n",
    "\n",
    "def extract_text_from_pdf(pdf_path):\n",
    "    \"\"\"Extracts text from a PDF file.\"\"\"\n",
    "    try:\n",
    "        doc = fitz.open(pdf_path)\n",
    "        text = \"\\n\".join([page.get_text(\"text\") for page in doc])  # Extract text from all pages\n",
    "        return text.strip()\n",
    "    except Exception as e:\n",
    "        print(f\"Error reading PDF: {e}\")\n",
    "        return \"\"\n",
    "\n",
    "def extract_values(text):\n",
    "    \"\"\"Extracts required values using regex.\"\"\"\n",
    "    data = {}\n",
    "\n",
    "    # Regex patterns for required fields\n",
    "    patterns = {\n",
    "        \"Name\": r\"Mr\\.?\\s*([A-Z][a-z]+(?:\\s+[A-Z][a-z]+)*)\",  # Extracts name after \"Mr.\"\n",
    "        \"Age\": r\"(\\d{1,3})\\s*Years\",  # Extracts age\n",
    "        \"Gender\": r\"(Male|Female|Other)\",  # Extracts gender\n",
    "        \"Total Cholesterol\": r\"(\\d+)\\s*Cholesterol\\s*Total\",\n",
    "        \"HDL Cholesterol\": r\"(\\d+)\\s*HDL\\s*Cholesterol\",\n",
    "        \"LDL Cholesterol\": r\"(\\d+)\\s*LDL\\s*Cholesterol\",\n",
    "        \"Triglycerides\": r\"(\\d+)\\s*Triglycerides\"\n",
    "    }\n",
    "\n",
    "    for key, pattern in patterns.items():\n",
    "        match = re.search(pattern, text, re.IGNORECASE)\n",
    "        if match:\n",
    "            value = match.group(1).strip()\n",
    "            data[key] = int(value) if value.isdigit() else value  # Convert numbers to integers\n",
    "        else:\n",
    "            print(f\"Warning: {key} not found!\")\n",
    "\n",
    "    return data\n",
    "\n",
    "def format_output(data):\n",
    "    \"\"\"Formats extracted data with newline separation.\"\"\"\n",
    "    return \"\\n\".join(f\"{key}: {value}\" for key, value in data.items())\n",
    "\n",
    "# Use the correct PDF file path\n",
    "pdf_path = r\"D:\\sem 8 project\\data1.pdf\"  # Use raw string or double backslashes\n",
    "pdf_text = extract_text_from_pdf(pdf_path)\n",
    "user_data = extract_values(pdf_text)\n",
    "\n",
    "formatted_output = format_output(user_data)\n",
    "print(\"\\n\" + formatted_output)  # Print the formatted result\n"
   ]
  }
 ],
 "metadata": {
  "kernelspec": {
   "display_name": "Python 3",
   "language": "python",
   "name": "python3"
  },
  "language_info": {
   "codemirror_mode": {
    "name": "ipython",
    "version": 3
   },
   "file_extension": ".py",
   "mimetype": "text/x-python",
   "name": "python",
   "nbconvert_exporter": "python",
   "pygments_lexer": "ipython3",
   "version": "3.12.0"
  }
 },
 "nbformat": 4,
 "nbformat_minor": 2
}
