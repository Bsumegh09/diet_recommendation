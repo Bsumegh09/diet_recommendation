{
 "cells": [
  {
   "cell_type": "code",
   "execution_count": 2,
   "metadata": {},
   "outputs": [
    {
     "name": "stderr",
     "output_type": "stream",
     "text": [
      "<>:9: SyntaxWarning: invalid escape sequence '\\s'\n",
      "<>:9: SyntaxWarning: invalid escape sequence '\\s'\n",
      "C:\\Users\\sumeg\\AppData\\Local\\Temp\\ipykernel_22032\\1763200195.py:9: SyntaxWarning: invalid escape sequence '\\s'\n",
      "  df = pd.read_csv(\"D:\\sem 8 project\\datafile.csv\")\n"
     ]
    },
    {
     "name": "stdout",
     "output_type": "stream",
     "text": [
      "Model Accuracy: 98.50\n"
     ]
    },
    {
     "data": {
      "text/plain": [
       "['diet_recommendation_model.pkl']"
      ]
     },
     "execution_count": 2,
     "metadata": {},
     "output_type": "execute_result"
    }
   ],
   "source": [
    "import pandas as pd\n",
    "import numpy as np\n",
    "from sklearn.model_selection import train_test_split\n",
    "from sklearn.ensemble import RandomForestClassifier\n",
    "from sklearn.metrics import accuracy_score\n",
    "import joblib\n",
    "\n",
    "# Load dataset\n",
    "df = pd.read_csv(\"D:\\sem 8 project\\datafile.csv\")\n",
    "\n",
    "# Create Non-HDL Cholesterol\n",
    "df[\"non_hdl\"] = df[\"total_cholesterol\"] - df[\"hdl\"]\n",
    "\n",
    "# Define diet recommendations based on cholesterol levels\n",
    "def assign_diet(row):\n",
    "    if row[\"ldl\"] > 160 or row[\"non_hdl\"] > 190:\n",
    "        return \"Low-fat, high-fiber diet\"\n",
    "    elif row[\"hdl\"] < 40:\n",
    "        return \"Increase healthy fats (avocados, nuts)\"\n",
    "    elif row[\"diabetes\"] == 1 or row[\"heart_attack\"] == 1:\n",
    "        return \"Heart-healthy Mediterranean diet\"\n",
    "    else:\n",
    "        return \"Balanced diet\"\n",
    "\n",
    "df[\"diet_recommendation\"] = df.apply(assign_diet, axis=1)\n",
    "\n",
    "# Convert diet labels to numerical categories\n",
    "diet_mapping = {\n",
    "    \"Low-fat, high-fiber diet\": 0,\n",
    "    \"Increase healthy fats (avocados, nuts)\": 1,\n",
    "    \"Heart-healthy Mediterranean diet\": 2,\n",
    "    \"Balanced diet\": 3\n",
    "}\n",
    "df[\"diet_label\"] = df[\"diet_recommendation\"].map(diet_mapping)\n",
    "\n",
    "# Features and target\n",
    "X = df[[\"age\", \"sex\", \"total_cholesterol\", \"ldl\", \"hdl\", \"non_hdl\", \"systolic_bp\", \"diastolic_bp\", \"smoking\", \"diabetes\", \"heart_attack\"]]\n",
    "y = df[\"diet_label\"]\n",
    "\n",
    "# Split dataset into training and testing sets\n",
    "X_train, X_test, y_train, y_test = train_test_split(X, y, test_size=0.2, random_state=42)\n",
    "\n",
    "# Train the model\n",
    "model = RandomForestClassifier(n_estimators=100, random_state=42)\n",
    "model.fit(X_train, y_train)\n",
    "\n",
    "# Evaluate the model\n",
    "y_pred = model.predict(X_test)\n",
    "accuracy = accuracy_score(y_test, y_pred)\n",
    "accuracy=accuracy*100\n",
    "print(f\"Model Accuracy: {accuracy:.2f}\")\n",
    "\n",
    "# Save the trained model\n",
    "joblib.dump(model, \"diet_recommendation_model.pkl\")\n"
   ]
  },
  {
   "cell_type": "code",
   "execution_count": null,
   "metadata": {},
   "outputs": [
    {
     "name": "stdout",
     "output_type": "stream",
     "text": [
      "Model Accuracy: 98.50%\n",
      "✅ Model saved successfully as 'diet_recommendation_model.pkl'\n"
     ]
    }
   ],
   "source": [
    "import pandas as pd\n",
    "import numpy as np\n",
    "from sklearn.model_selection import train_test_split\n",
    "from sklearn.ensemble import RandomForestClassifier\n",
    "from sklearn.metrics import accuracy_score\n",
    "import joblib\n",
    "\n",
    "# Load dataset\n",
    "df = pd.read_csv(\"D:/sem 8 project/datafile.csv\")  # Change to your actual dataset path\n",
    "\n",
    "# Create Non-HDL Cholesterol\n",
    "df[\"non_hdl\"] = df[\"total_cholesterol\"] - df[\"hdl\"]\n",
    "\n",
    "# Define diet recommendations based on cholesterol levels\n",
    "def assign_diet(row):\n",
    "    if row[\"ldl\"] > 160 or row[\"non_hdl\"] > 190:\n",
    "        return \"Low-fat, high-fiber diet\"\n",
    "    elif row[\"hdl\"] < 40:\n",
    "        return \"Increase healthy fats (avocados, nuts)\"\n",
    "    elif row[\"diabetes\"] == 1 or row[\"heart_attack\"] == 1:\n",
    "        return \"Heart-healthy Mediterranean diet\"\n",
    "    else:\n",
    "        return \"Balanced diet\"\n",
    "\n",
    "df[\"diet_recommendation\"] = df.apply(assign_diet, axis=1)\n",
    "\n",
    "# Convert diet labels to numerical categories\n",
    "diet_mapping = {\n",
    "    \"Low-fat, high-fiber diet\": 0,\n",
    "    \"Increase healthy fats (avocados, nuts)\": 1,\n",
    "    \"Heart-healthy Mediterranean diet\": 2,\n",
    "    \"Balanced diet\": 3\n",
    "}\n",
    "df[\"diet_label\"] = df[\"diet_recommendation\"].map(diet_mapping)\n",
    "\n",
    "# Features and target\n",
    "X = df[[\"age\", \"sex\", \"total_cholesterol\", \"ldl\", \"hdl\", \"non_hdl\", \"systolic_bp\", \"diastolic_bp\", \"smoking\", \"diabetes\", \"heart_attack\"]]\n",
    "y = df[\"diet_label\"]\n",
    "\n",
    "# Split dataset into training and testing sets\n",
    "X_train, X_test, y_train, y_test = train_test_split(X, y, test_size=0.2, random_state=42)\n",
    "\n",
    "# Train the model\n",
    "model = RandomForestClassifier(n_estimators=100, random_state=42)\n",
    "model.fit(X_train, y_train)\n",
    "\n",
    "# Evaluate the model\n",
    "y_pred = model.predict(X_test)\n",
    "accuracy = accuracy_score(y_test, y_pred) * 100\n",
    "print(f\"Model Accuracy: {accuracy:.2f}%\")\n",
    "# Save the trained model as a .pkl file\n",
    "joblib.dump(model, \"diet_recommendation_model.pkl\")\n",
    "\n",
    "print(\"✅ Model saved successfully as 'diet_recommendation_model.pkl'\")\n"
   ]
  }
 ],
 "metadata": {
  "kernelspec": {
   "display_name": "Python 3",
   "language": "python",
   "name": "python3"
  },
  "language_info": {
   "codemirror_mode": {
    "name": "ipython",
    "version": 3
   },
   "file_extension": ".py",
   "mimetype": "text/x-python",
   "name": "python",
   "nbconvert_exporter": "python",
   "pygments_lexer": "ipython3",
   "version": "3.12.0"
  }
 },
 "nbformat": 4,
 "nbformat_minor": 2
}
